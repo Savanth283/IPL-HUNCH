{
  "nbformat": 4,
  "nbformat_minor": 0,
  "metadata": {
    "colab": {
      "name": "Doubly_LinkedList_In_Python.ipynb",
      "provenance": [],
      "authorship_tag": "ABX9TyNGq/4WM/v/Kx6XlxvIWXS/",
      "include_colab_link": true
    },
    "kernelspec": {
      "name": "python3",
      "display_name": "Python 3"
    },
    "language_info": {
      "name": "python"
    }
  },
  "cells": [
    {
      "cell_type": "markdown",
      "metadata": {
        "id": "view-in-github",
        "colab_type": "text"
      },
      "source": [
        "<a href=\"https://colab.research.google.com/github/Savanth283/IPL-HUNCH/blob/master/Doubly_LinkedList_In_Python.ipynb\" target=\"_parent\"><img src=\"https://colab.research.google.com/assets/colab-badge.svg\" alt=\"Open In Colab\"/></a>"
      ]
    },
    {
      "cell_type": "markdown",
      "source": [
        "Insert Operations In Doubly Linked List \n",
        "1. atBegin \n",
        "2. atEnd \n",
        "3. InBetween"
      ],
      "metadata": {
        "id": "tEBMoxPquPdw"
      }
    },
    {
      "cell_type": "code",
      "execution_count": 10,
      "metadata": {
        "colab": {
          "base_uri": "https://localhost:8080/"
        },
        "id": "zWnVoSUat9rW",
        "outputId": "4d7a1a45-409a-45be-927a-5e29ed64880f"
      },
      "outputs": [
        {
          "output_type": "stream",
          "name": "stdout",
          "text": [
            "25\n",
            "34\n",
            "12\n",
            "13\n",
            "14\n",
            "26\n"
          ]
        }
      ],
      "source": [
        "\n",
        "\n",
        "class Node:\n",
        "  def __init__(self, data=None,next=None,prev=None):\n",
        "    self.data = data \n",
        "    self.prev = prev \n",
        "    self.next = next \n",
        "\n",
        "class D_linked_list:\n",
        "  def __init__(self):\n",
        "    self.head = None\n",
        "  \n",
        "  def atBegin(self,newdata):\n",
        "    NewNode = Node(newdata)\n",
        "    NewNode.next = self.head \n",
        "    NewNode.prev = None\n",
        "    \n",
        "    if self.head is not None:\n",
        "      self.head.prev = NewNode \n",
        "    self.head = NewNode\n",
        "\n",
        "  def atEnd(self,newdata2):\n",
        "    NewNode2 = Node(newdata2)\n",
        "    last = self.head \n",
        "    NewNode2.next = None \n",
        "\n",
        "    if self.head is None:\n",
        "      NewNode2.prev = None \n",
        "      self.head = NewNode2 \n",
        "      return \n",
        "    while (last.next is not None):\n",
        "      last = last.next \n",
        "    last.next = NewNode2\n",
        "    NewNode2 = last  \n",
        "  \n",
        "  def InBetween(self,middle_node,newdata3):\n",
        "    if middle_node is None:\n",
        "      print(\"The middle node is empty\")\n",
        "      return \n",
        "    NewNode3 = Node(newdata3)\n",
        "    NewNode3.next = middle_node.next\n",
        "    middle_node.next = NewNode3\n",
        "    NewNode3.prev = middle_node \n",
        "\n",
        "    if NewNode3.next is not None:\n",
        "      NewNode3.next.prev = NewNode3 \n",
        "\n",
        "  def listprint1(self):        \n",
        "    printval = self.head\n",
        "    while printval is not None:\n",
        "      print(printval.data)\n",
        "      printval = printval.next\n",
        "\n",
        "list = D_linked_list()\n",
        "list.head = Node('12')\n",
        "e2 = Node('13')\n",
        "e3 = Node('14')\n",
        "\n",
        "list.head.next = e2\n",
        "e2.next = e3 \n",
        "\n",
        "list.atBegin(\"25\")  #adding the value at the begin\n",
        "list.atEnd(\"26\")    #adding the value at the end \n",
        "list.InBetween(list.head,\"34\") \n",
        "list.listprint1()"
      ]
    },
    {
      "cell_type": "markdown",
      "source": [
        "Deleting an element in linked list "
      ],
      "metadata": {
        "id": "U94h5K5_8C6Z"
      }
    },
    {
      "cell_type": "code",
      "source": [
        "class Node:\n",
        "  def __init__(self,data=None,prev=None,next=None):\n",
        "    self.data = data\n",
        "    self.prev = prev \n",
        "    self.next = next \n",
        "\n",
        "class D_linked_list:\n",
        "  def __init__(self):\n",
        "    self.head = None\n",
        "\n",
        "  def push(self,newdata): #adding elements to the list \n",
        "    NewNode = Node(newdata)\n",
        "    NewNode.next = self.head\n",
        "    NewNode.prev = None\n",
        "    if self.head is not None:\n",
        "      self.head.prev = NewNode \n",
        "    self.head = NewNode\n",
        "\n",
        "  def deleteNode(self,delv): #deleting an element in the linked list\n",
        "    if self.head is None or delv is None:\n",
        "      return \n",
        "      #if the node to be deleted is the head node\n",
        "\n",
        "    if self.head == delv:\n",
        "      self.head = delv.next \n",
        "\n",
        "      #if the node to be deleted is not last node\n",
        "\n",
        "    if delv.next is not None:\n",
        "      delv.next.prev = delv.prev  \n",
        "    \n",
        "    #if the node is not the first node \n",
        "    if delv.prev is not None:\n",
        "      delv.prev.next = delv.next \n",
        "\n",
        "    \n",
        "\n",
        "  def listprint1(self):        #prinitng the linked List\n",
        "    printval = self.head\n",
        "    while printval is not None:\n",
        "      print(printval.data)\n",
        "      printval = printval.next\n",
        "\n",
        "list = D_linked_list()\n",
        "list.push(1)\n",
        "list.push(2)\n",
        "list.push(3)\n",
        "list.push(4)\n",
        "list.push(5)\n",
        "\n",
        "list.listprint1()\n",
        "list.deleteNode(list.head.next)\n",
        "print(\"After deletion of element in the list is \")\n",
        "list.listprint1()\n"
      ],
      "metadata": {
        "colab": {
          "base_uri": "https://localhost:8080/"
        },
        "id": "6dzHjJ74yF8i",
        "outputId": "db372122-0f1c-4a1d-966f-cf7e4cdf3003"
      },
      "execution_count": 21,
      "outputs": [
        {
          "output_type": "stream",
          "name": "stdout",
          "text": [
            "5\n",
            "4\n",
            "3\n",
            "2\n",
            "1\n",
            "After deletion of element in the list is \n",
            "5\n",
            "3\n",
            "2\n",
            "1\n"
          ]
        }
      ]
    },
    {
      "cell_type": "code",
      "source": [
        ""
      ],
      "metadata": {
        "id": "zd7DN5k984B_"
      },
      "execution_count": null,
      "outputs": []
    }
  ]
}